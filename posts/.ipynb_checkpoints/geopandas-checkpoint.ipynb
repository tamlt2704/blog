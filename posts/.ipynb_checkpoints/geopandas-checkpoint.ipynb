{
 "cells": [
  {
   "cell_type": "code",
   "execution_count": null,
   "metadata": {},
   "outputs": [],
   "source": [
    "import matp"
   ]
  }
 ],
 "metadata": {
  "kernelspec": {
   "display_name": "Python 3",
   "language": "python",
   "name": "python3"
  },
  "nikola": {
   "category": "",
   "date": "2019-05-04 12:36:05 UTC+08:00",
   "description": "",
   "link": "",
   "slug": "geopandas",
   "tags": "",
   "title": "geopandas",
   "type": "text"
  }
 },
 "nbformat": 4,
 "nbformat_minor": 2
}
